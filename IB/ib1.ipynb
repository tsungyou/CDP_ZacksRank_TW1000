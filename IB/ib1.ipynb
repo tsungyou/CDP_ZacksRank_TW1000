{
 "cells": [
  {
   "cell_type": "code",
   "execution_count": 1,
   "metadata": {},
   "outputs": [],
   "source": [
    "#setup\n",
    "# IB Gateway (non GUI-able smaller, lighter version of API)\n",
    "    # https://www.interactivebrokers.com/en/trading/ib-api.php\n",
    "# download java\n",
    "# TWS API\n",
    "    # https://interactivebrokers.github.io/#\n",
    "\n",
    "# main\n",
    "# ib-insync.readthedocs.io/readme.html#"
   ]
  },
  {
   "cell_type": "code",
   "execution_count": null,
   "metadata": {},
   "outputs": [],
   "source": [
    "# Request Market Data"
   ]
  }
 ],
 "metadata": {
  "kernelspec": {
   "display_name": "Python 3",
   "language": "python",
   "name": "python3"
  },
  "language_info": {
   "codemirror_mode": {
    "name": "ipython",
    "version": 3
   },
   "file_extension": ".py",
   "mimetype": "text/x-python",
   "name": "python",
   "nbconvert_exporter": "python",
   "pygments_lexer": "ipython3",
   "version": "3.11.6"
  }
 },
 "nbformat": 4,
 "nbformat_minor": 2
}
