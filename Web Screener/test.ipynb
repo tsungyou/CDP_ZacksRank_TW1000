{
 "cells": [
  {
   "cell_type": "code",
   "execution_count": 3,
   "metadata": {},
   "outputs": [
    {
     "data": {
      "text/plain": [
       "{'1': '2024-02-21', '2': '2024-02-22', '3': '2024-02-23'}"
      ]
     },
     "execution_count": 3,
     "metadata": {},
     "output_type": "execute_result"
    }
   ],
   "source": [
    "import json\n",
    "with open(\"../Database/signals.json\") as f:\n",
    "    a = json.load(f)\n",
    "    time_keys = a.keys()\n",
    "datetime_dict = {}\n",
    "for i, times in enumerate(list(time_keys)):\n",
    "    datetime_dict[str(i+1)] = times\n",
    "datetime_dict"
   ]
  }
 ],
 "metadata": {
  "kernelspec": {
   "display_name": "Python 3",
   "language": "python",
   "name": "python3"
  },
  "language_info": {
   "codemirror_mode": {
    "name": "ipython",
    "version": 3
   },
   "file_extension": ".py",
   "mimetype": "text/x-python",
   "name": "python",
   "nbconvert_exporter": "python",
   "pygments_lexer": "ipython3",
   "version": "3.11.6"
  }
 },
 "nbformat": 4,
 "nbformat_minor": 2
}
