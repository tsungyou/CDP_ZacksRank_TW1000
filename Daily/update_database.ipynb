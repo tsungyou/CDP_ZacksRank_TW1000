{
 "cells": [
  {
   "cell_type": "code",
   "execution_count": 31,
   "metadata": {},
   "outputs": [
    {
     "name": "stdout",
     "output_type": "stream",
     "text": [
      "******************** Yuanta ********************\n"
     ]
    },
    {
     "name": "stderr",
     "output_type": "stream",
     "text": [
      "100%|██████████| 18/18 [00:02<00:00,  7.39it/s]\n"
     ]
    },
    {
     "name": "stdout",
     "output_type": "stream",
     "text": [
      "{'TSLA': 1}\n",
      "******************** SP500 ********************\n"
     ]
    },
    {
     "name": "stderr",
     "output_type": "stream",
     "text": [
      "100%|██████████| 499/499 [01:09<00:00,  7.20it/s]\n"
     ]
    },
    {
     "name": "stdout",
     "output_type": "stream",
     "text": [
      "{'TSLA': 1, 'MSFT': 2, 'MA': 2, 'HON': 1, 'CDNS': 2, 'USB': 1, 'PSX': 2, 'AZO': 2, 'PSA': 1, 'DLR': 2, 'SYY': 2, 'GIS': 1, 'KMI': 1, 'DVN': 1, 'PPL': 1, 'CLX': 2, 'TXT': 2, 'JBHT': 2, 'MRO': 1, 'TAP': 1}\n",
      "******************** NASDAQ ********************\n"
     ]
    },
    {
     "name": "stderr",
     "output_type": "stream",
     "text": [
      "100%|██████████| 1254/1254 [02:23<00:00,  8.73it/s]\n"
     ]
    },
    {
     "name": "stdout",
     "output_type": "stream",
     "text": [
      "{'TSLA': 1, 'MSFT': 2, 'MA': 2, 'HON': 1, 'CDNS': 2, 'USB': 1, 'PSX': 2, 'AZO': 2, 'PSA': 1, 'DLR': 2, 'SYY': 2, 'GIS': 1, 'KMI': 1, 'DVN': 1, 'PPL': 1, 'CLX': 2, 'TXT': 2, 'JBHT': 2, 'MRO': 1, 'TAP': 1, 'BLUE': 1, 'WKHS': 1, 'APA': 1, 'TSP': 1, 'EVGO': 1, 'BYND': 1, 'EU': 2, 'NEOG': 1, 'ADMA': 2, 'ABCL': 1, 'CHKP': 2, 'ACDC': 1, 'ZNTL': 1, 'RLAY': 1, 'FIVE': 1, 'TRIN': 1, 'ASLE': 1, 'CLDX': 1, 'PNFP': 1, 'ABOS': 1, 'SNBR': 1, 'IMUX': 1, 'LOGI': 1, 'CRMD': 1, 'PXMD': 1, 'EXPO': 1, 'AMTX': 1, 'NCMI': 1}\n",
      "******************** NYSE ********************\n"
     ]
    },
    {
     "name": "stderr",
     "output_type": "stream",
     "text": [
      "100%|██████████| 1351/1351 [03:17<00:00,  6.83it/s]"
     ]
    },
    {
     "name": "stdout",
     "output_type": "stream",
     "text": [
      "{'TSLA': 1, 'MSFT': 2, 'MA': 2, 'HON': 1, 'CDNS': 2, 'USB': 1, 'PSX': 2, 'AZO': 2, 'PSA': 1, 'DLR': 2, 'SYY': 2, 'GIS': 1, 'KMI': 1, 'DVN': 1, 'PPL': 1, 'CLX': 2, 'TXT': 2, 'JBHT': 2, 'MRO': 1, 'TAP': 1, 'BLUE': 1, 'WKHS': 1, 'APA': 1, 'TSP': 1, 'EVGO': 1, 'BYND': 1, 'EU': 2, 'NEOG': 1, 'ADMA': 2, 'ABCL': 1, 'CHKP': 2, 'ACDC': 1, 'ZNTL': 1, 'RLAY': 1, 'FIVE': 1, 'TRIN': 1, 'ASLE': 1, 'CLDX': 1, 'PNFP': 1, 'ABOS': 1, 'SNBR': 1, 'IMUX': 1, 'LOGI': 1, 'CRMD': 1, 'PXMD': 1, 'EXPO': 1, 'AMTX': 1, 'NCMI': 1, 'NOK': 2, 'BMY': 1, 'AMC': 1, 'LYG': 1, 'ABR': 1, 'HSY': 2, 'ACI': 1, 'UDR': 1, 'UPS': 1, 'ES': 1, 'VSH': 1, 'ENLC': 1, 'WTI': 1, 'LLAP': 1, 'DTE': 1, 'PBF': 2, 'CIG': 1, 'SXC': 2, 'OR': 2, 'LEN': 2, 'MKC': 1, 'RY': 1, 'PRGO': 1, 'DBI': 2, 'ASB': 1, 'NRGV': 1, 'NJR': 1, 'SNV': 1, 'RCUS': 1, 'SUI': 1, 'OUST': 1, 'BSBR': 1, 'BAK': 1, 'PGTI': 1, 'SOL': 1, 'SLGN': 2, 'HRTG': 1, 'DRQ': 1, 'AVNS': 1}\n"
     ]
    },
    {
     "name": "stderr",
     "output_type": "stream",
     "text": [
      "\n"
     ]
    }
   ],
   "source": [
    "# update signals.json for web screener\n",
    "# Daily Looping\n",
    "from backtesting import Backtest, Strategy\n",
    "import yfinance as yf\n",
    "import json\n",
    "import pandas as pd\n",
    "import datetime\n",
    "import pandas_ta as ta\n",
    "import tqdm\n",
    "import subprocess\n",
    "route = \"../Database/\"\n",
    "filemap = {\n",
    "    \"NYSE\"  : route + \"../Database/zackRanks_NYSE.json\", # 1352\n",
    "    \"NASDAQ\": route + '../Database/zackRanks_NASDAQ.json', # small:1255; mid:330; large:72\n",
    "    \"SP500\" : route + \"../Database/zackRanks_SP500.json\", # small: 1352\n",
    "   \"Yuanta\": route + \"zackRanks_yuanta.json\",\n",
    "   \"buy\": route + \"buy.json\",\n",
    "   \"sell\": route + \"sell.json\",\n",
    "   \"portfolio\": route + \"zackRanks_portfolio.json\"\n",
    "}\n",
    "def get_tickers(file=\"SP500\"):\n",
    "    dict = pd.read_csv(filemap[file], header=None)\n",
    "    dict = dict.iloc[:, 0]\n",
    "    return dict\n",
    "\n",
    "def WPRbt(data):\n",
    "    period = 12\n",
    "    max = data.Close.rolling(period).max()\n",
    "    min = data.Close.rolling(period).min()\n",
    "    wpr = (max - data.Close)/(max - min) * (-100) \n",
    "    return wpr\n",
    "\n",
    "def check_WPR_2MA_without_DB(ticker, test=False, period_long_ma=28, period_short_ma=14, upb=-20, lob=-80):\n",
    "    a = yf.download(ticker, start=datetime.datetime.now() - datetime.timedelta(days=50), interval=\"1d\", progress=False)\n",
    "\n",
    "    # a[\"WPR\"] = WPRbt(a)\n",
    "    a[\"MAX\"] = a.High.rolling(12).max()\n",
    "    a[\"MIN\"] = a.Low.rolling(12).min()\n",
    "    a[\"WPRs\"] = (a.MAX - a.Close)/(a.MAX - a.MIN) * (-100)\n",
    "    a[\"long_MA\"] = a.Close.ewm(span=period_long_ma, adjust=False, min_periods=period_long_ma).mean()\n",
    "    a['short_MA'] = a.Close.ewm(span=period_short_ma, adjust=False, min_periods=period_short_ma).mean()\n",
    "    long0 = a['long_MA'][-1]\n",
    "    long1 = a['long_MA'][-2]\n",
    "    long2 = a['long_MA'][-3]\n",
    "    long3 = a['long_MA'][-4]\n",
    "    # =======================\n",
    "    short0 = a['short_MA'][-1]\n",
    "    short1 = a['short_MA'][-2]\n",
    "    short2 = a['short_MA'][-3]\n",
    "    short3 = a['short_MA'][-4]\n",
    "    # =======================\n",
    "    wpr0 = a['WPRs'][-1]\n",
    "    wpr1 = a['WPRs'][-2]\n",
    "    wpr2 = a['WPRs'][-3]\n",
    "    wpr3 = a['WPRs'][-4]\n",
    "    check_ma_percent = 0.0000# for PAYX at 2024-02-08, 0.005 return 4(meaning doesn't work ) while 0.006 works\n",
    "    bear_market = (long0 - short0 > long0*check_ma_percent) and (long1 - short1 > long1*check_ma_percent) and (long2 - short2 > long2*check_ma_percent)\n",
    "    bull_market = (long0 - short0 < long0*-check_ma_percent) and (long1 - short1 < long1*-check_ma_percent) and (long2 - short2 < long2*-check_ma_percent)\n",
    "    if test:\n",
    "        print(a[['Close', \"short_MA\", \"long_MA\", \"WPRs\", \"MAX\"]])\n",
    "        print(wpr0, wpr1, wpr2, wpr3)\n",
    "        print(\"quick: \", [short3, short2, short1, short0])\n",
    "        print(\"slow: \", [long3, long2, long1, long0])\n",
    "    # current signal\n",
    "    if((wpr0 < upb) and (wpr1 > upb) and bear_market):\n",
    "        # print(ticker, \"cross above\"):\n",
    "            # sell signal\n",
    "        return 1\n",
    "    elif ((wpr0 > lob) and (wpr1 < lob)) and bull_market:\n",
    "        # buy signal\n",
    "        return 2\n",
    "    # check for yesterday or the day before yesterday buy/sell signal\n",
    "    elif((wpr1 < upb) and (wpr2 > upb) and bear_market):\n",
    "        return 1.5\n",
    "    elif((wpr1 > lob) and (wpr2 < lob) and bull_market):\n",
    "        return 2.5\n",
    "    elif((wpr2 > lob) and (wpr3 < lob) and bull_market) or ((wpr2 > upb) and (wpr3 < upb) and bear_market):\n",
    "        return 3\n",
    "\n",
    "    else:\n",
    "        return 0\n",
    "\n",
    "def mains(loops = [\"NYSE\", \"NASDAQ\", \"SP500\"], updateDatabase = False):\n",
    "    all_signals = {}\n",
    "    for k in loops:\n",
    "        print(\"*\"*20, k, \"*\"*20)\n",
    "\n",
    "        with open(filemap[k], 'r') as f:\n",
    "            python_dict = json.load(f)\n",
    "        a = list(python_dict.keys())\n",
    "        if k in ['portfolio', \"SP500\", \"Yuanta\"]:\n",
    "            tickers = a[:]\n",
    "        elif k == \"NYSE\":\n",
    "            tickers = a[1:1352]\n",
    "        elif k == \"NASDAQ\":\n",
    "            tickers = a[1:1255]\n",
    "        with tqdm.tqdm(total=len(tickers)) as pbar:\n",
    "            res = {}\n",
    "            for ticker in tickers:\n",
    "                res[ticker] = check_WPR_2MA_without_DB(ticker)\n",
    "                pbar.update(1)  # Update the progress bar\n",
    "\n",
    "        # s = {{i:res[i]} for i in res.keys() if res[i] in [1, 2]}\n",
    "        for key, value in res.items():\n",
    "            if value in [1, 2]:\n",
    "                all_signals[key] = value\n",
    "                    \n",
    "        if sum(list(res.values())) == 0:\n",
    "            print(\"there's nothing with signal\")\n",
    "    print(all_signals)\n",
    "\n",
    "    time = (datetime.datetime.now() - datetime.timedelta(days=1)).strftime(\"%Y-%m-%d\")\n",
    "\n",
    "    with open(\"../Database/signals.json\", \"r\") as f:\n",
    "        python_dict_signal = json.load(f)\n",
    "    python_dict_signal[time] = all_signals\n",
    "    with open(\"../Database/signals.json\", \"w\") as f:\n",
    "        json.dump(python_dict_signal, f , indent=4)\n",
    "\n",
    "updateDatabase = True\n",
    "\n",
    "loops = [\"Yuanta\", \"SP500\", \"NASDAQ\", \"NYSE\"]\n",
    "mains(updateDatabase=updateDatabase, loops=loops)\n"
   ]
  },
  {
   "cell_type": "code",
   "execution_count": 19,
   "metadata": {},
   "outputs": [
    {
     "name": "stdout",
     "output_type": "stream",
     "text": [
      "******************** SP500 ********************\n"
     ]
    },
    {
     "name": "stderr",
     "output_type": "stream",
     "text": [
      "100%|██████████| 499/499 [10:13<00:00,  1.23s/it]\n"
     ]
    }
   ],
   "source": [
    "# Update json files for zackRanks raw files\n",
    "# Daily Looping\n",
    "from backtesting import Backtest, Strategy\n",
    "import yfinance as yf\n",
    "import json\n",
    "import pandas as pd\n",
    "import datetime\n",
    "import pandas_ta as ta\n",
    "import tqdm\n",
    "import subprocess\n",
    "route = \"../Database/\"\n",
    "filemap = {\n",
    "    \"NYSE\"  : route + \"../Database/zackRanks_NYSE.json\", # 1352\n",
    "    \"NASDAQ\": route + '../Database/zackRanks_NASDAQ.json', # small:1255; mid:330; large:72\n",
    "    \"SP500\" : route + \"../Database/zackRanks_SP500.json\", # small: 1352\n",
    "   \"Yuanta\": route + \"zackRanks_yuanta.json\",\n",
    "   \"buy\": route + \"buy.json\",\n",
    "   \"sell\": route + \"sell.json\",\n",
    "   \"portfolio\": route + \"zackRanks_portfolio.json\"\n",
    "}\n",
    "\n",
    "def mains(today=0, loops = [\"NYSE\", \"Yuanta\", \"NASDAQ\", \"SP500\"]):\n",
    "    for k in loops:\n",
    "        print(\"*\"*20, k, \"*\"*20)\n",
    "        with open(filemap[k], 'r') as f:\n",
    "            python_dict = json.load(f)\n",
    "            a = list(python_dict.keys())\n",
    "            with tqdm.tqdm(total=len(a)) as pbar:\n",
    "                for ticker in a:\n",
    "                    command = \"zacks-api \" + ticker\n",
    "                    result = subprocess.check_output(command, shell=True)\n",
    "                    dict = eval(result.decode((\"utf-8\")))\n",
    "                    tick = dict[\"ticker\"]\n",
    "                    rank = dict[\"zacksRank\"]\n",
    "                    if today == 0:\n",
    "                        dat = dict[\"updatedAt\"].split(\"T\")[0]\n",
    "                    else:\n",
    "                        dat = datetime.datetime.now() - datetime.timedelta(days=today)\n",
    "                    python_dict[tick][dat] = rank\n",
    "                    pbar.update(1)\n",
    "        with open(filemap[k], 'w') as f:\n",
    "            json.dump(python_dict, f, indent=4)\n",
    "\n",
    "\n",
    "loops = [\"NYSE\", \"Yuanta\", \"NASDAQ\", \"SP500\", \"portfolio\"]\n",
    "# SP500: \n",
    "# today: default_day = 0\n",
    "mains(today=0, loops=loops)"
   ]
  },
  {
   "cell_type": "code",
   "execution_count": null,
   "metadata": {},
   "outputs": [],
   "source": [
    "# update Tickers/{}.csv\n",
    "import datetime\n",
    "import pandas as pd\n",
    "import yfinance as yf\n",
    "route = \"../Database/\"\n",
    "filemap = {\n",
    "    \"NYSE\"  : route + \"../Database/zackRanks_NYSE.json\", # 1352\n",
    "    \"NASDAQ\": route + '../Database/zackRanks_NASDAQ.json', # small:1255; mid:330; large:72\n",
    "    \"SP500\" : route + \"../Database/zackRanks_SP500.json\", # small: 1352\n",
    "   \"Yuanta\": route + \"zackRanks_yuanta.json\",\n",
    "   \"buy\": route + \"buy.json\",\n",
    "   \"sell\": route + \"sell.json\",\n",
    "   \"portfolio\": route + \"zackRanks_portfolio.json\"\n",
    "}\n",
    "def daily_add_datetime_minus_1(loops=list(filemap.keys())):\n",
    "    for kys in loops:\n",
    "        with open(filemap[kys], \"r\") as f:\n",
    "            python_dict = json.load(f)\n",
    "            a = list(python_dict.keys())\n",
    "        i = 0\n",
    "        for ticker in a:\n",
    "            df = pd.read_csv(f\"../Database/Tickers/{ticker}.csv\", index_col=\"Date\")\n",
    "            start = datetime.datetime.now()-datetime.timedelta(days=1)\n",
    "            ftime = start.strftime(\"%Y-%m-%d\")\n",
    "            try:\n",
    "                b = df.loc[ftime]\n",
    "            except KeyError:\n",
    "                a = yf.download(\"A\", start=start)\n",
    "                a.index = [ftime]\n",
    "                df = pd.concat([df, a])\n",
    "                df.index.name = \"Date\"\n",
    "                df.to_csv(\"../Database/Tickers/A.csv\", index=\"Date\")\n",
    "                if i == 0:\n",
    "                    print(f\"added on {kys}\")\n",
    "                    i += 1\n",
    "daily_add_datetime_minus_1()                "
   ]
  },
  {
   "cell_type": "code",
   "execution_count": null,
   "metadata": {},
   "outputs": [],
   "source": [
    "# initialization of Tickers/{}.csv\n",
    "import datetime\n",
    "import pandas as pd\n",
    "import yfinance as yf\n",
    "route = \"../Database/\"\n",
    "filemap = {\n",
    "    \"NYSE\"  : route + \"../Database/zackRanks_NYSE.json\", # 1352\n",
    "    \"NASDAQ\": route + '../Database/zackRanks_NASDAQ.json', # small:1255; mid:330; large:72\n",
    "    \"SP500\" : route + \"../Database/zackRanks_SP500.json\", # small: 1352\n",
    "   \"Yuanta\": route + \"zackRanks_yuanta.json\",\n",
    "   \"buy\": route + \"buy.json\",\n",
    "   \"sell\": route + \"sell.json\",\n",
    "   \"portfolio\": route + \"zackRanks_portfolio.json\"\n",
    "}\n",
    "def database_initialization():\n",
    "    for kys in [\"NYSE\", \"NASDAQ\", \"SP500\"]:\n",
    "        with open(filemap[kys], \"r\") as f:\n",
    "            python_dict = json.load(f)\n",
    "            a = list(python_dict.keys())\n",
    "        a = list(python_dict.keys())\n",
    "        for ticker in a:\n",
    "            print(ticker)\n",
    "            df = yf.download(ticker, progress=False)\n",
    "            df.to_csv(f\"../Database/Tickers/{ticker}.csv\")\n",
    "        \n",
    "database_initialization()                \n"
   ]
  }
 ],
 "metadata": {
  "kernelspec": {
   "display_name": "Python 3",
   "language": "python",
   "name": "python3"
  },
  "language_info": {
   "codemirror_mode": {
    "name": "ipython",
    "version": 3
   },
   "file_extension": ".py",
   "mimetype": "text/x-python",
   "name": "python",
   "nbconvert_exporter": "python",
   "pygments_lexer": "ipython3",
   "version": "3.11.6"
  }
 },
 "nbformat": 4,
 "nbformat_minor": 2
}
