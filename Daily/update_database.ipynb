{
 "cells": [
  {
   "cell_type": "code",
   "execution_count": 19,
   "metadata": {},
   "outputs": [
    {
     "name": "stdout",
     "output_type": "stream",
     "text": [
      "******************** SP500 ********************\n"
     ]
    },
    {
     "name": "stderr",
     "output_type": "stream",
     "text": [
      "100%|██████████| 499/499 [10:13<00:00,  1.23s/it]\n"
     ]
    }
   ],
   "source": [
    "# Update json files \n",
    "# Daily Looping\n",
    "from backtesting import Backtest, Strategy\n",
    "import yfinance as yf\n",
    "import json\n",
    "import pandas as pd\n",
    "import datetime\n",
    "import pandas_ta as ta\n",
    "import tqdm\n",
    "import subprocess\n",
    "route = \"../Database/\"\n",
    "filemap = {\n",
    "    \"NYSE\"  : route + \"../Database/zackRanks_NYSE.json\", # 1352\n",
    "    \"NASDAQ\": route + '../Database/zackRanks_NASDAQ.json', # small:1255; mid:330; large:72\n",
    "    \"SP500\" : route + \"../Database/zackRanks_SP500.json\", # small: 1352\n",
    "   \"Yuanta\": route + \"zackRanks_yuanta.json\",\n",
    "   \"buy\": route + \"buy.json\",\n",
    "   \"sell\": route + \"sell.json\",\n",
    "   \"portfolio\": route + \"zackRanks_portfolio.json\"\n",
    "}\n",
    "\n",
    "def mains(today=0, loops = [\"NYSE\", \"Yuanta\", \"NASDAQ\", \"SP500\"]):\n",
    "    for k in loops:\n",
    "        print(\"*\"*20, k, \"*\"*20)\n",
    "        with open(filemap[k], 'r') as f:\n",
    "            python_dict = json.load(f)\n",
    "            a = list(python_dict.keys())\n",
    "            with tqdm.tqdm(total=len(a)) as pbar:\n",
    "                for ticker in a:\n",
    "                    command = \"zacks-api \" + ticker\n",
    "                    result = subprocess.check_output(command, shell=True)\n",
    "                    dict = eval(result.decode((\"utf-8\")))\n",
    "                    tick = dict[\"ticker\"]\n",
    "                    rank = dict[\"zacksRank\"]\n",
    "                    if today == 0:\n",
    "                        dat = dict[\"updatedAt\"].split(\"T\")[0]\n",
    "                    else:\n",
    "                        dat = datetime.datetime.now() - datetime.timedelta(days=today)\n",
    "                    python_dict[tick][dat] = rank\n",
    "                    pbar.update(1)\n",
    "        with open(filemap[k], 'w') as f:\n",
    "            json.dump(python_dict, f, indent=4)\n",
    "\n",
    "\n",
    "loops = [\"NYSE\", \"Yuanta\", \"NASDAQ\", \"SP500\", \"portfolio\"]\n",
    "loop = [\"SP500\"]\n",
    "# SP500: \n",
    "# today: default_day = 0\n",
    "mains(today=0, loops=loop)"
   ]
  },
  {
   "cell_type": "code",
   "execution_count": null,
   "metadata": {},
   "outputs": [],
   "source": [
    "# update Tickers/{}.csv\n",
    "import datetime\n",
    "import pandas as pd\n",
    "import yfinance as yf\n",
    "route = \"../Database/\"\n",
    "filemap = {\n",
    "    \"NYSE\"  : route + \"../Database/zackRanks_NYSE.json\", # 1352\n",
    "    \"NASDAQ\": route + '../Database/zackRanks_NASDAQ.json', # small:1255; mid:330; large:72\n",
    "    \"SP500\" : route + \"../Database/zackRanks_SP500.json\", # small: 1352\n",
    "   \"Yuanta\": route + \"zackRanks_yuanta.json\",\n",
    "   \"buy\": route + \"buy.json\",\n",
    "   \"sell\": route + \"sell.json\",\n",
    "   \"portfolio\": route + \"zackRanks_portfolio.json\"\n",
    "}\n",
    "def daily_add_datetime_minus_1(loops=list(filemap.keys())):\n",
    "    for kys in loops:\n",
    "        with open(filemap[kys], \"r\") as f:\n",
    "            python_dict = json.load(f)\n",
    "            a = list(python_dict.keys())\n",
    "        i = 0\n",
    "        for ticker in a:\n",
    "            df = pd.read_csv(f\"../Database/Tickers/{ticker}.csv\", index_col=\"Date\")\n",
    "            start = datetime.datetime.now()-datetime.timedelta(days=1)\n",
    "            ftime = start.strftime(\"%Y-%m-%d\")\n",
    "            try:\n",
    "                b = df.loc[ftime]\n",
    "            except KeyError:\n",
    "                a = yf.download(\"A\", start=start)\n",
    "                a.index = [ftime]\n",
    "                df = pd.concat([df, a])\n",
    "                df.index.name = \"Date\"\n",
    "                df.to_csv(\"../Database/Tickers/A.csv\", index=\"Date\")\n",
    "                if i == 0:\n",
    "                    print(f\"added on {kys}\")\n",
    "                    i += 1\n",
    "daily_add_datetime_minus_1()                "
   ]
  },
  {
   "cell_type": "code",
   "execution_count": null,
   "metadata": {},
   "outputs": [],
   "source": [
    "# initialization of Tickers/{}.csv\n",
    "import datetime\n",
    "import pandas as pd\n",
    "import yfinance as yf\n",
    "route = \"../Database/\"\n",
    "filemap = {\n",
    "    \"NYSE\"  : route + \"../Database/zackRanks_NYSE.json\", # 1352\n",
    "    \"NASDAQ\": route + '../Database/zackRanks_NASDAQ.json', # small:1255; mid:330; large:72\n",
    "    \"SP500\" : route + \"../Database/zackRanks_SP500.json\", # small: 1352\n",
    "   \"Yuanta\": route + \"zackRanks_yuanta.json\",\n",
    "   \"buy\": route + \"buy.json\",\n",
    "   \"sell\": route + \"sell.json\",\n",
    "   \"portfolio\": route + \"zackRanks_portfolio.json\"\n",
    "}\n",
    "def database_initialization():\n",
    "    for kys in [\"NYSE\", \"NASDAQ\", \"SP500\"]:\n",
    "        with open(filemap[kys], \"r\") as f:\n",
    "            python_dict = json.load(f)\n",
    "            a = list(python_dict.keys())\n",
    "        a = list(python_dict.keys())\n",
    "        for ticker in a:\n",
    "            print(ticker)\n",
    "            df = yf.download(ticker, progress=False)\n",
    "            df.to_csv(f\"../Database/Tickers/{ticker}.csv\")\n",
    "        \n",
    "daily_add_datetime_minus_1()                \n"
   ]
  }
 ],
 "metadata": {
  "kernelspec": {
   "display_name": "Python 3",
   "language": "python",
   "name": "python3"
  },
  "language_info": {
   "codemirror_mode": {
    "name": "ipython",
    "version": 3
   },
   "file_extension": ".py",
   "mimetype": "text/x-python",
   "name": "python",
   "nbconvert_exporter": "python",
   "pygments_lexer": "ipython3",
   "version": "3.11.6"
  }
 },
 "nbformat": 4,
 "nbformat_minor": 2
}
