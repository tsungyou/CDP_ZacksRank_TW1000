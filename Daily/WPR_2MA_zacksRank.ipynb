{
 "cells": [
  {
   "cell_type": "code",
   "execution_count": 1,
   "metadata": {},
   "outputs": [
    {
     "name": "stderr",
     "output_type": "stream",
     "text": [
      "c:\\Users\\p3749\\AppData\\Local\\Programs\\Python\\Python311\\Lib\\site-packages\\tqdm\\auto.py:21: TqdmWarning: IProgress not found. Please update jupyter and ipywidgets. See https://ipywidgets.readthedocs.io/en/stable/user_install.html\n",
      "  from .autonotebook import tqdm as notebook_tqdm\n"
     ]
    },
    {
     "name": "stdout",
     "output_type": "stream",
     "text": [
      "******************** SP500 ********************\n"
     ]
    },
    {
     "name": "stderr",
     "output_type": "stream",
     "text": [
      " 84%|████████▍ | 418/499 [08:17<16:30, 12.23s/it]"
     ]
    },
    {
     "name": "stdout",
     "output_type": "stream",
     "text": [
      "PODD passed\n"
     ]
    },
    {
     "name": "stderr",
     "output_type": "stream",
     "text": [
      "100%|██████████| 499/499 [09:43<00:00,  1.17s/it]\n"
     ]
    },
    {
     "name": "stdout",
     "output_type": "stream",
     "text": [
      "******************** NYSE ********************\n"
     ]
    },
    {
     "name": "stderr",
     "output_type": "stream",
     "text": [
      "  3%|▎         | 54/1705 [01:17<3:22:56,  7.38s/it]"
     ]
    },
    {
     "name": "stdout",
     "output_type": "stream",
     "text": [
      "DT passed\n"
     ]
    },
    {
     "name": "stderr",
     "output_type": "stream",
     "text": [
      " 16%|█▌        | 272/1705 [05:07<24:25,  1.02s/it] "
     ]
    },
    {
     "name": "stdout",
     "output_type": "stream",
     "text": [
      "NTCO passed\n"
     ]
    },
    {
     "name": "stderr",
     "output_type": "stream",
     "text": [
      " 36%|███▌      | 606/1705 [12:14<4:45:48, 15.60s/it]"
     ]
    },
    {
     "name": "stdout",
     "output_type": "stream",
     "text": [
      "DBRG passed\n"
     ]
    },
    {
     "name": "stderr",
     "output_type": "stream",
     "text": [
      " 51%|█████▏    | 875/1705 [17:45<2:34:02, 11.14s/it]"
     ]
    },
    {
     "name": "stdout",
     "output_type": "stream",
     "text": [
      "ASH passed\n"
     ]
    },
    {
     "name": "stderr",
     "output_type": "stream",
     "text": [
      " 62%|██████▏   | 1055/1705 [21:06<11:00,  1.02s/it] "
     ]
    },
    {
     "name": "stdout",
     "output_type": "stream",
     "text": [
      "SEAS passed\n"
     ]
    },
    {
     "name": "stderr",
     "output_type": "stream",
     "text": [
      "100%|██████████| 1705/1705 [32:50<00:00,  1.16s/it]\n"
     ]
    },
    {
     "name": "stdout",
     "output_type": "stream",
     "text": [
      "******************** NASDAQ ********************\n"
     ]
    },
    {
     "name": "stderr",
     "output_type": "stream",
     "text": [
      "  0%|          | 1/2161 [00:00<34:40,  1.04it/s]"
     ]
    },
    {
     "name": "stdout",
     "output_type": "stream",
     "text": [
      "NSTG passed\n"
     ]
    },
    {
     "name": "stderr",
     "output_type": "stream",
     "text": [
      "  0%|          | 10/2161 [00:10<35:30,  1.01it/s]"
     ]
    },
    {
     "name": "stdout",
     "output_type": "stream",
     "text": [
      "IMGN passed\n"
     ]
    },
    {
     "name": "stderr",
     "output_type": "stream",
     "text": [
      " 15%|█▌        | 326/2161 [06:07<5:48:30, 11.40s/it]"
     ]
    },
    {
     "name": "stdout",
     "output_type": "stream",
     "text": [
      "EA passed\n"
     ]
    },
    {
     "name": "stderr",
     "output_type": "stream",
     "text": [
      " 17%|█▋        | 368/2161 [07:09<3:27:25,  6.94s/it]"
     ]
    },
    {
     "name": "stdout",
     "output_type": "stream",
     "text": [
      "CCEP passed\n"
     ]
    },
    {
     "name": "stderr",
     "output_type": "stream",
     "text": [
      " 41%|████      | 877/2161 [15:51<20:45,  1.03it/s]  "
     ]
    },
    {
     "name": "stdout",
     "output_type": "stream",
     "text": [
      "GRCL passed\n"
     ]
    },
    {
     "name": "stderr",
     "output_type": "stream",
     "text": [
      " 48%|████▊     | 1031/2161 [18:28<18:55,  1.00s/it]"
     ]
    },
    {
     "name": "stdout",
     "output_type": "stream",
     "text": [
      "THRX passed\n"
     ]
    },
    {
     "name": "stderr",
     "output_type": "stream",
     "text": [
      " 49%|████▉     | 1069/2161 [19:06<17:33,  1.04it/s]"
     ]
    },
    {
     "name": "stdout",
     "output_type": "stream",
     "text": [
      "ICVX passed\n"
     ]
    },
    {
     "name": "stderr",
     "output_type": "stream",
     "text": [
      " 73%|███████▎  | 1586/2161 [28:03<09:50,  1.03s/it]"
     ]
    },
    {
     "name": "stdout",
     "output_type": "stream",
     "text": [
      "SIEN passed\n"
     ]
    },
    {
     "name": "stderr",
     "output_type": "stream",
     "text": [
      " 99%|█████████▉| 2139/2161 [37:37<00:23,  1.06s/it]"
     ]
    },
    {
     "name": "stdout",
     "output_type": "stream",
     "text": [
      "FRLN passed\n"
     ]
    },
    {
     "name": "stderr",
     "output_type": "stream",
     "text": [
      "100%|██████████| 2161/2161 [38:00<00:00,  1.06s/it]\n"
     ]
    },
    {
     "name": "stdout",
     "output_type": "stream",
     "text": [
      "******************** portfolio ********************\n"
     ]
    },
    {
     "name": "stderr",
     "output_type": "stream",
     "text": [
      "100%|██████████| 17/17 [00:16<00:00,  1.00it/s]\n"
     ]
    }
   ],
   "source": [
    "# Update json files for zackRanks raw files\n",
    "# Daily Looping\n",
    "from backtesting import Backtest, Strategy\n",
    "import yfinance as yf\n",
    "import json\n",
    "import pandas as pd\n",
    "import datetime\n",
    "import pandas_ta as ta\n",
    "import tqdm\n",
    "import subprocess\n",
    "route = \"../Database/\"\n",
    "filemap = {\n",
    "    \"NYSE\"  : route + \"../Database/zackRanks_NYSE.json\", # 1352\n",
    "    \"NASDAQ\": route + '../Database/zackRanks_NASDAQ.json', # small:1255; mid:330; large:72\n",
    "    \"SP500\" : route + \"../Database/zackRanks_SP500.json\", # small: 1352\n",
    "   \"Yuanta\": route + \"zackRanks_yuanta.json\",\n",
    "   \"buy\": route + \"buy.json\",\n",
    "   \"sell\": route + \"sell.json\",\n",
    "   \"portfolio\": route + \"zackRanks_portfolio.json\"\n",
    "}\n",
    "\n",
    "def mains(today=0, loops = [\"NYSE\", \"NASDAQ\", \"SP500\"]):\n",
    "    for k in loops:\n",
    "        print(\"*\"*20, k, \"*\"*20)\n",
    "        with open(filemap[k], 'r') as f:\n",
    "            python_dict = json.load(f)\n",
    "            a = list(python_dict.keys())\n",
    "            with tqdm.tqdm(total=len(a)) as pbar:\n",
    "                for ticker in a:\n",
    "                    try:\n",
    "                        command = \"zacks-api \" + ticker\n",
    "                        result = subprocess.check_output(command, shell=True)\n",
    "                        result_decoded = result.decode(\"utf-8\")\n",
    "        # Parse the result as JSON\n",
    "                        dict = json.loads(result_decoded)\n",
    "                        tick = dict[\"ticker\"]\n",
    "                        rank = dict[\"zacksRank\"]\n",
    "                        if today == 0:\n",
    "                            dat = dict[\"updatedAt\"].split(\"T\")[0]\n",
    "                        else:\n",
    "                            dat = datetime.datetime.now() - datetime.timedelta(days=today)\n",
    "                        python_dict[tick][dat] = rank\n",
    "                    except:\n",
    "                        print(f\"{ticker} passed\")\n",
    "                        pass\n",
    "                    pbar.update(1)\n",
    "\n",
    "        with open(filemap[k], 'w') as f:\n",
    "            json.dump(python_dict, f, indent=4)\n",
    "\n",
    "loops = [\"SP500\", \"NYSE\", \"NASDAQ\", \"portfolio\"]\n",
    "# today: default_day = 0\n",
    "mains(today=0, loops=loops)"
   ]
  },
  {
   "cell_type": "code",
   "execution_count": null,
   "metadata": {},
   "outputs": [],
   "source": [
    "# update Tickers/{}.csv\n",
    "import datetime\n",
    "import pandas as pd\n",
    "import yfinance as yf\n",
    "route = \"../Database/\"\n",
    "filemap = {\n",
    "    \"NYSE\"  : route + \"../Database/zackRanks_NYSE.json\", # 1352\n",
    "    \"NASDAQ\": route + '../Database/zackRanks_NASDAQ.json', # small:1255; mid:330; large:72\n",
    "    \"SP500\" : route + \"../Database/zackRanks_SP500.json\", # small: 1352\n",
    "   \"Yuanta\": route + \"zackRanks_yuanta.json\",\n",
    "   \"buy\": route + \"buy.json\",\n",
    "   \"sell\": route + \"sell.json\",\n",
    "   \"portfolio\": route + \"zackRanks_portfolio.json\"\n",
    "}\n",
    "def daily_add_datetime_minus_1(loops=list(filemap.keys())):\n",
    "    for kys in loops:\n",
    "        with open(filemap[kys], \"r\") as f:\n",
    "            python_dict = json.load(f)\n",
    "            a = list(python_dict.keys())\n",
    "        i = 0\n",
    "        for ticker in a:\n",
    "            df = pd.read_csv(f\"../Database/Tickers/{ticker}.csv\", index_col=\"Date\")\n",
    "            start = datetime.datetime.now()-datetime.timedelta(days=1)\n",
    "            ftime = start.strftime(\"%Y-%m-%d\")\n",
    "            try:\n",
    "                b = df.loc[ftime]\n",
    "            except KeyError:\n",
    "                a = yf.download(\"A\", start=start)\n",
    "                a.index = [ftime]\n",
    "                df = pd.concat([df, a])\n",
    "                df.index.name = \"Date\"\n",
    "                df.to_csv(\"../Database/Tickers/A.csv\", index=\"Date\")\n",
    "                if i == 0:\n",
    "                    print(f\"added on {kys}\")\n",
    "                    i += 1\n",
    "daily_add_datetime_minus_1()                "
   ]
  },
  {
   "cell_type": "code",
   "execution_count": null,
   "metadata": {},
   "outputs": [],
   "source": [
    "# initialization of Tickers/{}.csv\n",
    "import datetime\n",
    "import pandas as pd\n",
    "import yfinance as yf\n",
    "route = \"../Database/\"\n",
    "filemap = {\n",
    "    \"NYSE\"  : route + \"../Database/zackRanks_NYSE.json\", # 1352\n",
    "    \"NASDAQ\": route + '../Database/zackRanks_NASDAQ.json', # small:1255; mid:330; large:72\n",
    "    \"SP500\" : route + \"../Database/zackRanks_SP500.json\", # small: 1352\n",
    "   \"Yuanta\": route + \"zackRanks_yuanta.json\",\n",
    "   \"buy\": route + \"buy.json\",\n",
    "   \"sell\": route + \"sell.json\",\n",
    "   \"portfolio\": route + \"zackRanks_portfolio.json\"\n",
    "}\n",
    "def database_initialization():\n",
    "    for kys in [\"NYSE\", \"NASDAQ\", \"SP500\"]:\n",
    "        with open(filemap[kys], \"r\") as f:\n",
    "            python_dict = json.load(f)\n",
    "            a = list(python_dict.keys())\n",
    "        a = list(python_dict.keys())\n",
    "        for ticker in a:\n",
    "            print(ticker)\n",
    "            df = yf.download(ticker, progress=False)\n",
    "            df.to_csv(f\"../Database/Tickers/{ticker}.csv\")\n",
    "        \n",
    "database_initialization()                \n"
   ]
  },
  {
   "cell_type": "code",
   "execution_count": 14,
   "metadata": {},
   "outputs": [
    {
     "data": {
      "image/png": "[encoded data removed]",
      "text/plain": [
       "<Figure size 640x480 with 1 Axes>"
      ]
     },
     "metadata": {},
     "output_type": "display_data"
    },
    {
     "data": {
      "text/plain": [
       "0"
      ]
     },
     "execution_count": 14,
     "metadata": {},
     "output_type": "execute_result"
    }
   ],
   "source": [
    "import yfinance as yf\n",
    "import datetime \n",
    "import matplotlib.pyplot as plt\n",
    "def WPRbt(data):\n",
    "    period = 12\n",
    "    max = data.Close.rolling(period).max()\n",
    "    min = data.Close.rolling(period).min()\n",
    "    wpr = (max - data.Close)/(max - min) * (-100) \n",
    "    return wpr\n",
    "\n",
    "def check_WPR_2MA_without_DB(days, ticker, test=False, period_long_ma=28, period_short_ma=14, upb=-20, lob=-80):\n",
    "    a = yf.download(ticker, start=datetime.datetime.now() - datetime.timedelta(days=days), interval=\"1d\", progress=False)\n",
    "\n",
    "    # a[\"WPR\"] = WPRbt(a)\n",
    "    a[\"MAX\"] = a.High.rolling(12).max()\n",
    "    a[\"MIN\"] = a.Low.rolling(12).min()\n",
    "    a[\"WPRs\"] = (a.MAX - a.Close)/(a.MAX - a.MIN) * (-100)\n",
    "    a[\"long_MA\"] = a.Close.ewm(span=period_long_ma, adjust=False, min_periods=period_long_ma).mean()\n",
    "    a['short_MA'] = a.Close.ewm(span=period_short_ma, adjust=False, min_periods=period_short_ma).mean()\n",
    "    long0 = a['long_MA'][-1]\n",
    "    long1 = a['long_MA'][-2]\n",
    "    long2 = a['long_MA'][-3]\n",
    "    long3 = a['long_MA'][-4]\n",
    "    # =======================\n",
    "    short0 = a['short_MA'][-1]\n",
    "    short1 = a['short_MA'][-2]\n",
    "    short2 = a['short_MA'][-3]\n",
    "    short3 = a['short_MA'][-4]\n",
    "    # =======================\n",
    "    wpr0 = a['WPRs'][-1]\n",
    "    wpr1 = a['WPRs'][-2]\n",
    "    wpr2 = a['WPRs'][-3]\n",
    "    wpr3 = a['WPRs'][-4]\n",
    "    check_ma_percent = 0.0000# for PAYX at 2024-02-08, 0.005 return 4(meaning doesn't work ) while 0.006 works\n",
    "    bear_market = (long0 - short0 > long0*check_ma_percent) and (long1 - short1 > long1*check_ma_percent) and (long2 - short2 > long2*check_ma_percent)\n",
    "    bull_market = (long0 - short0 < long0*-check_ma_percent) and (long1 - short1 < long1*-check_ma_percent) and (long2 - short2 < long2*-check_ma_percent)\n",
    "    if test:\n",
    "        print(a[['Close', \"short_MA\", \"long_MA\", \"WPRs\", \"MAX\"]])\n",
    "        print(wpr0, wpr1, wpr2, wpr3)\n",
    "        print(\"quick: \", [short3, short2, short1, short0])\n",
    "        print(\"slow: \", [long3, long2, long1, long0])\n",
    "    # current signal\n",
    "    # print(a)\n",
    "    plt.plot(a[\"Close\"], label='Close')\n",
    "    plt.plot(a[\"long_MA\"], label='long')\n",
    "    plt.plot(a[\"short_MA\"], label='short')\n",
    "    plt.title(\"test\")\n",
    "    plt.legend()\n",
    "    plt.show()\n",
    "    if((wpr0 < upb) and (wpr1 > upb) and bear_market):\n",
    "        # print(ticker, \"cross above\"):\n",
    "            # sell signal\n",
    "        return 1\n",
    "    elif ((wpr0 > lob) and (wpr1 < lob)) and bull_market:\n",
    "        # buy signal\n",
    "        return 2\n",
    "    # check for yesterday or the day before yesterday buy/sell signal\n",
    "    elif((wpr1 < upb) and (wpr2 > upb) and bear_market):\n",
    "        return 1.5\n",
    "    elif((wpr1 > lob) and (wpr2 < lob) and bull_market):\n",
    "        return 2.5\n",
    "    elif((wpr2 > lob) and (wpr3 < lob) and bull_market) or ((wpr2 > upb) and (wpr3 < upb) and bear_market):\n",
    "        return 3\n",
    "\n",
    "    else:\n",
    "        return 0\n",
    "check_WPR_2MA_without_DB(365, \"GPS\")"
   ]
  },
  {
   "cell_type": "code",
   "execution_count": null,
   "metadata": {},
   "outputs": [],
   "source": []
  }
 ],
 "metadata": {
  "kernelspec": {
   "display_name": "Python 3",
   "language": "python",
   "name": "python3"
  },
  "language_info": {
   "codemirror_mode": {
    "name": "ipython",
    "version": 3
   },
   "file_extension": ".py",
   "mimetype": "text/x-python",
   "name": "python",
   "nbconvert_exporter": "python",
   "pygments_lexer": "ipython3",
   "version": "3.11.6"
  }
 },
 "nbformat": 4,
 "nbformat_minor": 2
}
