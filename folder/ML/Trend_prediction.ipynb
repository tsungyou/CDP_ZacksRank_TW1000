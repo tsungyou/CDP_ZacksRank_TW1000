{
 "cells": [
  {
   "cell_type": "markdown",
   "metadata": {},
   "source": [
    "CodeTrading\n",
    "https://www.youtube.com/watch?v=q_0rvwPbIqg"
   ]
  },
  {
   "cell_type": "code",
   "execution_count": null,
   "metadata": {},
   "outputs": [],
   "source": [
    "import pandas as pd\n",
    "import yfinance as yf \n",
    "df = yf.download(\"EURUSD=X\", start=\"2003-01-01\", end='201-12-31', interval=\"1d\", progress=False)\n",
    "# df = pd.read_csv(\"EURUSD_Candlestick_1_D_ASK_05.05.2003-30.06.2021.csv\")\n",
    "\n",
    "#Check if NA values are in data\n",
    "df=df[df['volume']!=0]\n",
    "df.reset_index(drop=True, inplace=True)\n",
    "df.isna().sum()\n",
    "df.tail()"
   ]
  }
 ],
 "metadata": {
  "language_info": {
   "name": "python"
  }
 },
 "nbformat": 4,
 "nbformat_minor": 2
}
